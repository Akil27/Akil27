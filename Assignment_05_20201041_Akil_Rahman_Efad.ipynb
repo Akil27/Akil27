{
  "nbformat": 4,
  "nbformat_minor": 0,
  "metadata": {
    "colab": {
      "name": "Assignment 05_20201041_Akil Rahman Efad.ipynb",
      "provenance": [],
      "collapsed_sections": [],
      "authorship_tag": "ABX9TyPo8tt+TXmZmZX27LmFVkZq",
      "include_colab_link": true
    },
    "kernelspec": {
      "name": "python3",
      "display_name": "Python 3"
    },
    "language_info": {
      "name": "python"
    }
  },
  "cells": [
    {
      "cell_type": "markdown",
      "metadata": {
        "id": "view-in-github",
        "colab_type": "text"
      },
      "source": [
        "<a href=\"https://colab.research.google.com/github/Akil27/Akil27/blob/main/Assignment_05_20201041_Akil_Rahman_Efad.ipynb\" target=\"_parent\"><img src=\"https://colab.research.google.com/assets/colab-badge.svg\" alt=\"Open In Colab\"/></a>"
      ]
    },
    {
      "cell_type": "code",
      "metadata": {
        "colab": {
          "base_uri": "https://localhost:8080/"
        },
        "id": "YhDo7k8xM_OS",
        "outputId": "76499c80-4247-4194-892e-2454d6c552d4"
      },
      "source": [
        "#AnsToQuestionNo:1\n",
        "\n",
        "class Marks():\n",
        "    def __init__(self,mark):\n",
        "        self.mark=mark\n",
        "\n",
        "    def __add__(self,other):\n",
        "        total_marks = self.mark + other.mark\n",
        "        return Marks(total_marks)\n",
        "\n",
        "Q1 = Marks(int(input(\"Quiz 1 (out of 10): \")))\n",
        "Q2 = Marks(int(input(\"Quiz 2 (out of 10): \")))\n",
        "Lab = Marks(int(input(\"Lab (out of 30): \")))\n",
        "Mid = Marks(int(input(\"Mid (out of 20): \")))\n",
        "Final = Marks(int(input(\"Final (out of 30): \")))\n",
        "total = Q1 + Q2 + Lab + Mid + Final\n",
        "print(\"Total marks: {}\".format(total.mark))"
      ],
      "execution_count": null,
      "outputs": [
        {
          "output_type": "stream",
          "name": "stdout",
          "text": [
            "Quiz 1 (out of 10): 10\n",
            "Quiz 2 (out of 10): 10\n",
            "Lab (out of 30): 30\n",
            "Mid (out of 20): 20\n",
            "Final (out of 30): 30\n",
            "Total marks: 100\n"
          ]
        }
      ]
    },
    {
      "cell_type": "code",
      "metadata": {
        "id": "fELgKhq8PEin",
        "colab": {
          "base_uri": "https://localhost:8080/"
        },
        "outputId": "f924d3be-6e11-4e7c-9826-dbd0d7134a2e"
      },
      "source": [
        "#AnsToQuestionNo:2\n",
        "\n",
        "class Teacher():\n",
        "    def __init__(self,name,dept):\n",
        "        self.__name=name\n",
        "        self.__dept=dept\n",
        "        self.__course=[]\n",
        "    \n",
        "    def addCourse(self,newCourse):\n",
        "        self.__course.append(newCourse)\n",
        "\n",
        "    def printDetail(self):\n",
        "        print(\"====================================\")\n",
        "        print(\"Name: \",self.__name)\n",
        "        print(\"Department: \",self.__dept)\n",
        "        print(\"List of courses\")\n",
        "        print(\"====================================\")\n",
        "        for i in self.__course:\n",
        "            print(i.course)\n",
        "        print(\"====================================\")\n",
        "\n",
        "class Course():\n",
        "    def __init__(self,course):\n",
        "        self.course=course\n",
        "\n",
        "\n",
        "t1 = Teacher(\"Saad Abdullah\", \"CSE\")\n",
        "t2 = Teacher(\"Mumit Khan\", \"CSE\")\n",
        "t3 = Teacher(\"Sadia Kazi\", \"CSE\")\n",
        "c1 = Course(\"CSE 110 Programming Language I\")\n",
        "c2 = Course(\"CSE 111 Programming Language-II\")\n",
        "c3 = Course(\"CSE 220 Data Structures\")\n",
        "c4 = Course(\"CSE 221 Algorithms\")\n",
        "c5 = Course(\"CCSE 230 Discrete Mathematics\")\n",
        "c6 = Course(\"CSE 310 Object Oriented Programming\")\n",
        "c7 = Course(\"CSE 320 Data Communications\")\n",
        "c8 = Course(\"CSE 340 Computer Architecture\")\n",
        "t1.addCourse(c1)\n",
        "t1.addCourse(c2)\n",
        "t2.addCourse(c3)\n",
        "t2.addCourse(c4)\n",
        "t2.addCourse(c5)\n",
        "t3.addCourse(c6)\n",
        "t3.addCourse(c7)\n",
        "t3.addCourse(c8)\n",
        "t1.printDetail()\n",
        "t2.printDetail()\n",
        "t3.printDetail()        "
      ],
      "execution_count": null,
      "outputs": [
        {
          "output_type": "stream",
          "name": "stdout",
          "text": [
            "====================================\n",
            "Name:  Saad Abdullah\n",
            "Department:  CSE\n",
            "List of courses\n",
            "====================================\n",
            "CSE 110 Programming Language I\n",
            "CSE 111 Programming Language-II\n",
            "====================================\n",
            "====================================\n",
            "Name:  Mumit Khan\n",
            "Department:  CSE\n",
            "List of courses\n",
            "====================================\n",
            "CSE 220 Data Structures\n",
            "CSE 221 Algorithms\n",
            "CCSE 230 Discrete Mathematics\n",
            "====================================\n",
            "====================================\n",
            "Name:  Sadia Kazi\n",
            "Department:  CSE\n",
            "List of courses\n",
            "====================================\n",
            "CSE 310 Object Oriented Programming\n",
            "CSE 320 Data Communications\n",
            "CSE 340 Computer Architecture\n",
            "====================================\n"
          ]
        }
      ]
    },
    {
      "cell_type": "code",
      "metadata": {
        "colab": {
          "base_uri": "https://localhost:8080/"
        },
        "id": "lcKs1axHMVjZ",
        "outputId": "fe34f5e7-d31a-4286-b411-081a1caaadba"
      },
      "source": [
        "#AnsToQuestionNo:3\n",
        "\n",
        "class Team():\n",
        "    def __init__(self,teamName=None):\n",
        "        self.teamName=teamName\n",
        "        self.players=[]\n",
        "\n",
        "    def setName(self,newTeamName):\n",
        "        self.teamName=newTeamName\n",
        "\n",
        "    def addPlayer(self,newPlayers):\n",
        "        self.players.append(newPlayers.name)\n",
        "\n",
        "    def printDetail(self):\n",
        "        print(\"=====================\")\n",
        "        print(\"Team: \",self.teamName)\n",
        "        print(\"List of Players:\")\n",
        "        print(self.players)\n",
        "        print(\"=====================\")\n",
        "\n",
        "class Player():\n",
        "    def __init__(self,name):\n",
        "        self.name=name\n",
        "\n",
        "\n",
        "b = Team()\n",
        "b.setName('Bangladesh')\n",
        "mashrafi = Player(\"Mashrafi\")\n",
        "b.addPlayer(mashrafi)\n",
        "tamim = Player(\"Tamim\")\n",
        "b.addPlayer(tamim)\n",
        "b.printDetail()\n",
        "a = Team(\"Australia\")\n",
        "ponting = Player(\"Ponting\")\n",
        "a.addPlayer(ponting)\n",
        "lee = Player(\"Lee\")\n",
        "a.addPlayer(lee)\n",
        "a.printDetail()"
      ],
      "execution_count": null,
      "outputs": [
        {
          "output_type": "stream",
          "name": "stdout",
          "text": [
            "=====================\n",
            "Team:  Bangladesh\n",
            "List of Players:\n",
            "['Mashrafi', 'Tamim']\n",
            "=====================\n",
            "=====================\n",
            "Team:  Australia\n",
            "List of Players:\n",
            "['Ponting', 'Lee']\n",
            "=====================\n"
          ]
        }
      ]
    },
    {
      "cell_type": "code",
      "metadata": {
        "id": "cSzQTOfeTyu5",
        "colab": {
          "base_uri": "https://localhost:8080/"
        },
        "outputId": "0da40e55-4a18-46ec-c0af-62370cf0a474"
      },
      "source": [
        "#AnsToQuestionNo:4\n",
        "\n",
        "class Color():\n",
        "    def __init__(self,color):\n",
        "        self.clr=color\n",
        "\n",
        "    def __add__(self,other):\n",
        "        if self.clr==\"red\" and other.clr==\"yellow\":\n",
        "            return Color(\"Orange\")\n",
        "\n",
        "        if self.clr==\"red\" and other.clr==\"blue\":\n",
        "            return Color(\"Violate\")\n",
        "\n",
        "        if self.clr==\"yellow\" and other.clr==\"blue\":\n",
        "            return Color(\"Green\")\n",
        "\n",
        "C1 = Color(input(\"First Color: \").lower())\n",
        "C2 = Color(input(\"Second Color: \").lower())\n",
        "C3 = C1 + C2\n",
        "print(\"Color formed:\", C3.clr)"
      ],
      "execution_count": null,
      "outputs": [
        {
          "output_type": "stream",
          "name": "stdout",
          "text": [
            "First Color: red\n",
            "Second Color: blue\n",
            "Color formed: Violate\n"
          ]
        }
      ]
    },
    {
      "cell_type": "code",
      "metadata": {
        "id": "fgLMKxxrZezy",
        "colab": {
          "base_uri": "https://localhost:8080/"
        },
        "outputId": "9ac2192d-749a-447a-efe0-f3051e4c8625"
      },
      "source": [
        "#AnsToQuestionNo:5\n",
        "\n",
        "class Circle():\n",
        "    def __init__(self,radius):\n",
        "        self.__radius=radius\n",
        "    \n",
        "\n",
        "    def getRadius(self):\n",
        "        return self.__radius\n",
        "\n",
        "    def setRadius(self):\n",
        "        self.__radius=radius\n",
        "\n",
        "    def area(self):\n",
        "        r=self.getRadius()\n",
        "        area=3.1416*(r**2)\n",
        "        return area\n",
        "\n",
        "    def __add__(self,other):\n",
        "        newCircle=self.getRadius()+other.getRadius()\n",
        "        return Circle(newCircle)\n",
        "\n",
        "\n",
        "c1 = Circle(4)\n",
        "print(\"First circle radius:\" , c1.getRadius())\n",
        "print(\"First circle area:\" ,c1.area())\n",
        "c2 = Circle(5)\n",
        "print(\"Second circle radius:\" ,c2.getRadius())\n",
        "print(\"Second circle area:\" ,c2.area())\n",
        "c3 = c1 + c2\n",
        "print(\"Third circle radius:\" ,c3.getRadius())\n",
        "print(\"Third circle area:\" ,c3.area())"
      ],
      "execution_count": null,
      "outputs": [
        {
          "output_type": "stream",
          "name": "stdout",
          "text": [
            "First circle radius: 4\n",
            "First circle area: 50.2656\n",
            "Second circle radius: 5\n",
            "Second circle area: 78.53999999999999\n",
            "Third circle radius: 9\n",
            "Third circle area: 254.46959999999999\n"
          ]
        }
      ]
    },
    {
      "cell_type": "code",
      "metadata": {
        "id": "lad6Xd60ZgFV",
        "colab": {
          "base_uri": "https://localhost:8080/"
        },
        "outputId": "518d7419-3bcf-4b42-ab02-a1b54d061144"
      },
      "source": [
        "#AnsToQuestionNo:6\n",
        "\n",
        "class Triangle():\n",
        "    def __init__(self,base,height):\n",
        "        self.__base=base\n",
        "        self.__height=height\n",
        "\n",
        "    def getBase(self):\n",
        "        return self.__base\n",
        "\n",
        "    def getHeight(self):\n",
        "        return self.__height\n",
        "\n",
        "    def setBase(self,base):\n",
        "        self.__base=base\n",
        "\n",
        "    def setHeight(self,height):\n",
        "        self.__height=height\n",
        "\n",
        "    def area(self):\n",
        "        area=0.5*self.getBase()*self.getHeight()\n",
        "        return area\n",
        "    \n",
        "    def __sub__(self,other):\n",
        "        newBase=self.getBase()-other.getBase()\n",
        "        newHeight=self.getHeight()-other.getHeight()\n",
        "        return Triangle(newBase,newHeight)\n",
        "\n",
        "\n",
        "t1 = Triangle(10, 5)\n",
        "print(\"First Triangle Base:\" , t1.getBase())\n",
        "print(\"First Triangle Height:\" , t1.getHeight())\n",
        "print(\"First Triangle area:\" ,t1.area())\n",
        "t2 = Triangle(5, 3)\n",
        "print(\"Second Triangle Base:\" , t2.getBase())\n",
        "print(\"Second Triangle Height:\" , t2.getHeight())\n",
        "print(\"Second Triangle area:\" ,t2.area())\n",
        "t3 = t1 - t2\n",
        "print(\"Third Triangle Base:\" , t3.getBase())\n",
        "print(\"Third Triangle Height:\" , t3.getHeight())\n",
        "print(\"Third Triangle area:\" ,t3.area())"
      ],
      "execution_count": null,
      "outputs": [
        {
          "output_type": "stream",
          "name": "stdout",
          "text": [
            "First Triangle Base: 10\n",
            "First Triangle Height: 5\n",
            "First Triangle area: 25.0\n",
            "Second Triangle Base: 5\n",
            "Second Triangle Height: 3\n",
            "Second Triangle area: 7.5\n",
            "Third Triangle Base: 5\n",
            "Third Triangle Height: 2\n",
            "Third Triangle area: 5.0\n"
          ]
        }
      ]
    },
    {
      "cell_type": "code",
      "metadata": {
        "id": "HR-dDeUlZg9w",
        "colab": {
          "base_uri": "https://localhost:8080/"
        },
        "outputId": "ef8f3dae-4478-4998-932d-c6de16af105c"
      },
      "source": [
        "#AnsToQuestionNo:7\n",
        "\n",
        "class Dolls:\n",
        "    def __init__(self,name,price):\n",
        "        self.name=name\n",
        "        self.price=price\n",
        "\n",
        "    def detail(self):\n",
        "        model = (\"Doll:\"+ self.name)\n",
        "        price = (\"Total price:\"+str(self.price)+\" Taka\")\n",
        "        detail= (model+\"\\n\"+price)\n",
        "        return detail\n",
        "\n",
        "    def __gt__(self,other):\n",
        "        if self.price>other.price:\n",
        "            return True\n",
        "        else:\n",
        "            return False\n",
        "\n",
        "    def __add__(self,other):\n",
        "        added_name=self.name+\" \"+other.name\n",
        "        total_price=self.price+other.price\n",
        "        return Dolls(added_name,total_price)\n",
        "\n",
        "\n",
        "obj_1 = Dolls(\"Tweety\", 2500)\n",
        "print(obj_1.detail())\n",
        "if obj_1 > obj_1:\n",
        "    print(\"Congratulations! You get the Tweety as a gift!\")\n",
        "else:\n",
        "    print(\"Thank you!\")\n",
        "\n",
        "print(\"=========================\")\n",
        "obj_2 = Dolls(\"Daffy Duck\", 1800)\n",
        "print(obj_2.detail())\n",
        "if obj_2 > obj_1:\n",
        "    print(\"Congratulations! You get the Tweety as a gift!\")\n",
        "else:\n",
        "    print(\"Thank you!\")\n",
        "\n",
        "print(\"=========================\")\n",
        "obj_3 = Dolls(\"Bugs Bunny\", 3000)\n",
        "print(obj_3.detail())\n",
        "if obj_3 > obj_1:\n",
        "    print(\"Congratulations! You get the Tweety as a gift!\")\n",
        "else:\n",
        "    print(\"Thank you!\")\n",
        "\n",
        "print(\"=========================\")\n",
        "obj_4 = Dolls(\"Porky Pig\", 1500)\n",
        "print(obj_4.detail())\n",
        "if obj_4 > obj_1:\n",
        "    print(\"Congratulations! You get the Tweety as a gift!\")\n",
        "else:\n",
        "    print(\"Thank you!\")\n",
        "\n",
        "print(\"=========================\")\n",
        "obj_5 = obj_2 + obj_3\n",
        "print(obj_5.detail())\n",
        "if obj_5 > obj_1:\n",
        "    print(\"Congratulations! You get the Tweety as a gift!\")\n",
        "else:\n",
        "    print(\"Thank you!\")"
      ],
      "execution_count": null,
      "outputs": [
        {
          "output_type": "stream",
          "name": "stdout",
          "text": [
            "Doll:Tweety\n",
            "Total price:2500 Taka\n",
            "Thank you!\n",
            "=========================\n",
            "Doll:Daffy Duck\n",
            "Total price:1800 Taka\n",
            "Thank you!\n",
            "=========================\n",
            "Doll:Bugs Bunny\n",
            "Total price:3000 Taka\n",
            "Congratulations! You get the Tweety as a gift!\n",
            "=========================\n",
            "Doll:Porky Pig\n",
            "Total price:1500 Taka\n",
            "Thank you!\n",
            "=========================\n",
            "Doll:Daffy Duck Bugs Bunny\n",
            "Total price:4800 Taka\n",
            "Congratulations! You get the Tweety as a gift!\n"
          ]
        }
      ]
    },
    {
      "cell_type": "code",
      "metadata": {
        "id": "vlTGWCuqZiG5",
        "colab": {
          "base_uri": "https://localhost:8080/"
        },
        "outputId": "0e2aff26-2d3f-4768-9961-630887bd7bb6"
      },
      "source": [
        "#AnsToQuestionNo:8\n",
        "\n",
        "class Coordinates():\n",
        "    def __init__(self,num1,num2):\n",
        "        self.num1 = num1\n",
        "        self.num2 = num2\n",
        "    def detail(self):\n",
        "        return (self.num1,self.num2)\n",
        "    def __sub__(self,other):\n",
        "        new_num1 = self.num1 - other.num1 \n",
        "        new_num2 = self.num2 - other.num2\n",
        "        obj = Coordinates(new_num1,new_num2)\n",
        "        return obj\n",
        "    def __mul__(self,other):\n",
        "        new_num3 = self.num1 * other.num1 \n",
        "        new_num4 = self.num2 * other.num2\n",
        "        obj2 = Coordinates(new_num3,new_num4)\n",
        "        return obj2\n",
        "    def __eq__(self,other):\n",
        "        if (self.num1==other.num1) and (self.num2==other.num2):\n",
        "            return \"The calculated coordinates are the same.\"\n",
        "        else:\n",
        "            return \"The calculated coordinates are NOT the same.\"\n",
        "\n",
        "\n",
        "p1 = Coordinates(int(input()),int(input()))\n",
        "p2 = Coordinates(int(input()),int(input()))\n",
        "p4 = p1 - p2\n",
        "print(p4.detail())\n",
        "p5 = p1 * p2\n",
        "print(p5.detail())\n",
        "point_check = (p4 == p5)\n",
        "print(point_check)"
      ],
      "execution_count": null,
      "outputs": [
        {
          "output_type": "stream",
          "name": "stdout",
          "text": [
            "1\n",
            "2\n",
            "3\n",
            "4\n",
            "(-2, -2)\n",
            "(3, 8)\n",
            "The calculated coordinates are NOT the same.\n"
          ]
        }
      ]
    },
    {
      "cell_type": "code",
      "metadata": {
        "id": "8s8VvRiKZlnW"
      },
      "source": [
        ""
      ],
      "execution_count": null,
      "outputs": []
    }
  ]
}